{
 "cells": [
  {
   "cell_type": "code",
   "execution_count": 1,
   "metadata": {},
   "outputs": [],
   "source": [
    "from zipfile import ZipFile\n",
    "\n",
    "file_name = \"Dataset.zip\"\n",
    "\n",
    "with ZipFile(file_name, 'r') as zip:\n",
    "  zip.extractall()"
   ]
  },
  {
   "cell_type": "code",
   "execution_count": 4,
   "metadata": {},
   "outputs": [],
   "source": [
    "from keras.models import Sequential\n",
    "from keras.layers import Conv2D, MaxPooling2D, Flatten, Dense, Dropout"
   ]
  },
  {
   "cell_type": "code",
   "execution_count": 8,
   "metadata": {},
   "outputs": [],
   "source": [
    "from keras.datasets import cifar10\n",
    "from keras.models import Model\n",
    "from keras.layers import Dense, Dropout, Activation, BatchNormalization, Flatten\n",
    "from keras.callbacks import ModelCheckpoint, ReduceLROnPlateau"
   ]
  },
  {
   "cell_type": "code",
   "execution_count": 9,
   "metadata": {},
   "outputs": [],
   "source": [
    "from tensorflow.keras.applications import EfficientNetB0\n",
    "from tensorflow.keras.layers import Conv2D,Input,Dense,GlobalAveragePooling2D,Dropout,BatchNormalization\n",
    "from tensorflow.keras.optimizers import RMSprop\n",
    "from tensorflow.keras.losses import SparseCategoricalCrossentropy"
   ]
  },
  {
   "cell_type": "code",
   "execution_count": 10,
   "metadata": {},
   "outputs": [],
   "source": [
    "img_size = 224\n",
    "batchSize = 32\n",
    "\n",
    "model = EfficientNetB0(include_top=False, input_shape=(img_size, img_size, 3), weights= 'imagenet')\n",
    "x = Input(shape = (img_size, img_size, 3))\n",
    "out_1 = model(x, training = True)\n",
    "out_1 = GlobalAveragePooling2D(name = 'encoding')(out_1)\n",
    "out_1 = Dropout(0.5)(out_1)\n",
    "output = Dense(50 , activation=\"softmax\")(out_1)\n",
    "\n",
    "final_model = Model(inputs = x, outputs = output)\n",
    "final_model.compile(optimizer = 'adam', loss = 'categorical_crossentropy', metrics = ['accuracy'])"
   ]
  },
  {
   "cell_type": "markdown",
   "metadata": {},
   "source": [
    "Fitting the Model to Dataset"
   ]
  },
  {
   "cell_type": "code",
   "execution_count": 11,
   "metadata": {},
   "outputs": [],
   "source": [
    "from keras.preprocessing.image import ImageDataGenerator\n",
    "from PIL import ImageFile"
   ]
  },
  {
   "cell_type": "code",
   "execution_count": 12,
   "metadata": {},
   "outputs": [
    {
     "name": "stdout",
     "output_type": "stream",
     "text": [
      "Found 12000 images belonging to 50 classes.\n",
      "Found 3000 images belonging to 50 classes.\n"
     ]
    }
   ],
   "source": [
    "ImageFile.LOAD_TRUNCATED_IMAGES = True\n",
    "\n",
    "train_datagen = ImageDataGenerator(rescale = 1./255, shear_range = .1, rotation_range = 25)\n",
    "test_datagen = ImageDataGenerator(rescale = 1./255)\n",
    "\n",
    "training_set = train_datagen.flow_from_directory('Dataset/Train', target_size = (64, 64), \n",
    "                                                 batch_size = 32, class_mode = 'categorical')\n",
    "test_set = test_datagen.flow_from_directory('Dataset/Test', target_size = (64, 64), \n",
    "                                                 batch_size = 32, class_mode = 'categorical')"
   ]
  },
  {
   "cell_type": "code",
   "execution_count": 13,
   "metadata": {},
   "outputs": [
    {
     "name": "stdout",
     "output_type": "stream",
     "text": [
      "Epoch 1/15\n",
      "100/100 [==============================] - 344s 3s/step - loss: 2.8555 - accuracy: 0.2675 - val_loss: 1.5278 - val_accuracy: 0.5729\n",
      "Epoch 2/15\n",
      "100/100 [==============================] - 217s 2s/step - loss: 1.2907 - accuracy: 0.6241 - val_loss: 0.8383 - val_accuracy: 0.7375\n",
      "Epoch 3/15\n",
      "100/100 [==============================] - 212s 2s/step - loss: 0.8692 - accuracy: 0.7406 - val_loss: 0.5995 - val_accuracy: 0.8219\n",
      "Epoch 4/15\n",
      "100/100 [==============================] - 205s 2s/step - loss: 0.6324 - accuracy: 0.8047 - val_loss: 0.4744 - val_accuracy: 0.8604\n",
      "Epoch 5/15\n",
      "100/100 [==============================] - 144s 1s/step - loss: 0.5766 - accuracy: 0.8188 - val_loss: 0.3974 - val_accuracy: 0.8729\n",
      "Epoch 6/15\n",
      "100/100 [==============================] - 158s 2s/step - loss: 0.4661 - accuracy: 0.8519 - val_loss: 0.3917 - val_accuracy: 0.8740\n",
      "Epoch 7/15\n",
      "100/100 [==============================] - 166s 2s/step - loss: 0.4189 - accuracy: 0.8750 - val_loss: 0.3560 - val_accuracy: 0.8938\n",
      "Epoch 8/15\n",
      "100/100 [==============================] - 139s 1s/step - loss: 0.3497 - accuracy: 0.8916 - val_loss: 0.2747 - val_accuracy: 0.9115\n",
      "Epoch 9/15\n",
      "100/100 [==============================] - 140s 1s/step - loss: 0.2999 - accuracy: 0.9091 - val_loss: 0.3274 - val_accuracy: 0.9052\n",
      "Epoch 10/15\n",
      "100/100 [==============================] - 140s 1s/step - loss: 0.3503 - accuracy: 0.8922 - val_loss: 0.3137 - val_accuracy: 0.9042\n",
      "Epoch 11/15\n",
      "100/100 [==============================] - 143s 1s/step - loss: 0.3085 - accuracy: 0.9094 - val_loss: 0.2350 - val_accuracy: 0.9240\n",
      "Epoch 12/15\n",
      "100/100 [==============================] - 139s 1s/step - loss: 0.2407 - accuracy: 0.9222 - val_loss: 0.2597 - val_accuracy: 0.9229\n",
      "Epoch 13/15\n",
      "100/100 [==============================] - 152s 2s/step - loss: 0.2759 - accuracy: 0.9112 - val_loss: 0.2984 - val_accuracy: 0.9115\n",
      "Epoch 14/15\n",
      "100/100 [==============================] - 178s 2s/step - loss: 0.2608 - accuracy: 0.9206 - val_loss: 0.2501 - val_accuracy: 0.9250\n",
      "Epoch 15/15\n",
      "100/100 [==============================] - 152s 2s/step - loss: 0.2410 - accuracy: 0.9266 - val_loss: 0.2231 - val_accuracy: 0.9365\n"
     ]
    },
    {
     "data": {
      "text/plain": [
       "<keras.callbacks.History at 0x1cdbfff6cd0>"
      ]
     },
     "execution_count": 13,
     "metadata": {},
     "output_type": "execute_result"
    }
   ],
   "source": [
    "final_model.fit(training_set, steps_per_epoch = 100, epochs = 15,\n",
    "                        validation_data = test_set, validation_steps = 30)"
   ]
  },
  {
   "cell_type": "code",
   "execution_count": null,
   "metadata": {},
   "outputs": [],
   "source": []
  }
 ],
 "metadata": {
  "kernelspec": {
   "display_name": "Python 3",
   "language": "python",
   "name": "python3"
  },
  "language_info": {
   "codemirror_mode": {
    "name": "ipython",
    "version": 3
   },
   "file_extension": ".py",
   "mimetype": "text/x-python",
   "name": "python",
   "nbconvert_exporter": "python",
   "pygments_lexer": "ipython3",
   "version": "3.8.5"
  }
 },
 "nbformat": 4,
 "nbformat_minor": 4
}
